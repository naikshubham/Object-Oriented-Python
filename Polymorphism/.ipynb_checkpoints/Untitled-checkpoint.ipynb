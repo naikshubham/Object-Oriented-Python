{
 "cells": [
  {
   "cell_type": "markdown",
   "metadata": {},
   "source": [
    "# Polymorphism"
   ]
  },
  {
   "cell_type": "markdown",
   "metadata": {},
   "source": [
    "Polymorphism means having many forms. In programming, polymorphism means same function name(but different signatures) being used for different types."
   ]
  },
  {
   "cell_type": "markdown",
   "metadata": {},
   "source": [
    "Example of inbuilt polymorphic functions:\n",
    "\n",
    "```python\n",
    "# len() being used for a string\n",
    "print(len(\"polymorphism\")\n",
    "\n",
    "# len() being used for a list\n",
    "print(len([10, 20, 30]))\n",
    "```"
   ]
  },
  {
   "cell_type": "markdown",
   "metadata": {},
   "source": [
    "## Polymorphism with class methods\n",
    "\n",
    "Below code shows how python can use two different class types, in the same way. We create a for loop that iterates through a tuple of objects. Then call the methods without being concerned about which class type each object is. We assume that these methods actually exists in each class.\n",
    "\n",
    "```python\n",
    "class India():\n",
    "    def capital(self):\n",
    "        print(\"New Delhi is the capital of India\")\n",
    "      \n",
    "    def language(self):\n",
    "        print(\"Hindi is the primary language of India\")\n",
    "        \n",
    "    def type(self):\n",
    "        print(\"India is a developing country\")\n",
    "        \n",
    "class USA():\n",
    "    def capital(self):\n",
    "        print(\"Washington D.C is the capital of USA\")\n",
    "      \n",
    "    def language(self):\n",
    "        print(\"English is the primary language of USA\")\n",
    "        \n",
    "    def type(self):\n",
    "        print(\"USA is a developed country\")\n",
    "    \n",
    "obj_ind = India()\n",
    "obj_usa = USA()\n",
    "\n",
    "for country in (obj_ind, obj_usa):\n",
    "    country.capital()\n",
    "    country.language()\n",
    "    country.type()\n",
    "    \n",
    "```\n",
    "Output:\n",
    "\n",
    "New Delhi is the capital of India.\n",
    "\n",
    "Hindi the primary language of India.\n",
    "\n",
    "India is a developing country.\n",
    "\n",
    "Washington, D.C. is the capital of USA.\n",
    "\n",
    "English is the primary language of USA.\n",
    "\n",
    "USA is a developed country.\n",
    "\n"
   ]
  },
  {
   "cell_type": "code",
   "execution_count": null,
   "metadata": {},
   "outputs": [],
   "source": []
  }
 ],
 "metadata": {
  "kernelspec": {
   "display_name": "Python 3",
   "language": "python",
   "name": "python3"
  },
  "language_info": {
   "codemirror_mode": {
    "name": "ipython",
    "version": 3
   },
   "file_extension": ".py",
   "mimetype": "text/x-python",
   "name": "python",
   "nbconvert_exporter": "python",
   "pygments_lexer": "ipython3",
   "version": "3.7.3"
  }
 },
 "nbformat": 4,
 "nbformat_minor": 2
}
