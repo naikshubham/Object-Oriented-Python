{
 "cells": [
  {
   "cell_type": "code",
   "execution_count": 29,
   "metadata": {},
   "outputs": [
    {
     "name": "stdout",
     "output_type": "stream",
     "text": [
      "3 4\n",
      "0 0\n"
     ]
    }
   ],
   "source": [
    "import math\n",
    "\n",
    "class Point:\n",
    "    def __init__(self, x=0, y=0):\n",
    "        self.intialize(x, y)\n",
    "        \n",
    "        \n",
    "    def intialize(self, x, y):\n",
    "        self.x = x\n",
    "        self.y = y\n",
    "        \n",
    "        \n",
    "    def reset(self):\n",
    "        self.intialize(0, 0)\n",
    "        \n",
    "        \n",
    "    def calculate_dist(self, other_points):\n",
    "        return math.sqrt((self.x - other_points.x)**2 + (self.y - other_points.y) **2)\n",
    "        \n",
    "        \n",
    "# constructing a point\n",
    "p1 = Point(3, 4)\n",
    "print(p1.x, p1.y)\n",
    "p1.reset()\n",
    "print(p1.x, p1.y)"
   ]
  },
  {
   "cell_type": "code",
   "execution_count": null,
   "metadata": {},
   "outputs": [],
   "source": [
    "\n"
   ]
  }
 ],
 "metadata": {
  "kernelspec": {
   "display_name": "Python 3",
   "language": "python",
   "name": "python3"
  },
  "language_info": {
   "codemirror_mode": {
    "name": "ipython",
    "version": 3
   },
   "file_extension": ".py",
   "mimetype": "text/x-python",
   "name": "python",
   "nbconvert_exporter": "python",
   "pygments_lexer": "ipython3",
   "version": "3.7.3"
  }
 },
 "nbformat": 4,
 "nbformat_minor": 2
}
